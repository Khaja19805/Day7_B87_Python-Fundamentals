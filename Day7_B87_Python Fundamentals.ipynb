{
 "cells": [
  {
   "cell_type": "code",
   "execution_count": 1,
   "id": "20a02ef0-2403-424a-a6a2-ca97c2b43ae1",
   "metadata": {},
   "outputs": [],
   "source": [
    "students = ['akshay', 'bhavana', 'chandu', 'ehsan']"
   ]
  },
  {
   "cell_type": "code",
   "execution_count": 2,
   "id": "15ce2a39-b769-4a28-b176-ca3048e45ddd",
   "metadata": {},
   "outputs": [
    {
     "name": "stdout",
     "output_type": "stream",
     "text": [
      "['akshay', 'bhavana', 'chandu', 'ehsan']\n"
     ]
    }
   ],
   "source": [
    "print(students)"
   ]
  },
  {
   "cell_type": "code",
   "execution_count": 6,
   "id": "093bb505-4c35-434c-82f5-92aa87687820",
   "metadata": {},
   "outputs": [],
   "source": [
    "#req: i want to appreciate the above students for submitting the work on the daily basis."
   ]
  },
  {
   "cell_type": "code",
   "execution_count": 7,
   "id": "bc583060-09df-4fda-b950-4b827b97e28f",
   "metadata": {},
   "outputs": [
    {
     "name": "stdout",
     "output_type": "stream",
     "text": [
      "akshay\n",
      "bhavana\n",
      "chandu\n",
      "ehsan\n"
     ]
    }
   ],
   "source": [
    "for a in students:\n",
    "    print(a)"
   ]
  },
  {
   "cell_type": "code",
   "execution_count": 12,
   "id": "300d528c-37c2-43c1-88f8-322d0330c84e",
   "metadata": {},
   "outputs": [
    {
     "name": "stdout",
     "output_type": "stream",
     "text": [
      "keep up the good work: Akshay\n",
      "i m waiting to receive your submission of today: Akshay\n",
      "keep up the good work: Bhavana\n",
      "i m waiting to receive your submission of today: Bhavana\n",
      "keep up the good work: Chandu\n",
      "i m waiting to receive your submission of today: Chandu\n",
      "keep up the good work: Ehsan\n",
      "i m waiting to receive your submission of today: Ehsan\n"
     ]
    }
   ],
   "source": [
    "for a in students:\n",
    "    print(f\"keep up the good work: {a.title()}\")\n",
    "    print(f\"i m waiting to receive your submission of today: {a.title()}\")"
   ]
  },
  {
   "cell_type": "code",
   "execution_count": 13,
   "id": "759b4e5f-68a6-4d8b-92ea-d07b1169b2fc",
   "metadata": {},
   "outputs": [
    {
     "name": "stdout",
     "output_type": "stream",
     "text": [
      "keep up the good work: Akshay\n",
      "i m waiting to receive your submission of today: Akshay\n",
      "\n",
      "keep up the good work: Bhavana\n",
      "i m waiting to receive your submission of today: Bhavana\n",
      "\n",
      "keep up the good work: Chandu\n",
      "i m waiting to receive your submission of today: Chandu\n",
      "\n",
      "keep up the good work: Ehsan\n",
      "i m waiting to receive your submission of today: Ehsan\n",
      "\n"
     ]
    }
   ],
   "source": [
    "for a in students:\n",
    "    print(f\"keep up the good work: {a.title()}\")\n",
    "    print(f\"i m waiting to receive your submission of today: {a.title()}\\n\")"
   ]
  },
  {
   "cell_type": "code",
   "execution_count": 16,
   "id": "8ed07591-185e-4c95-a771-4d6d080aa4a8",
   "metadata": {},
   "outputs": [
    {
     "name": "stdout",
     "output_type": "stream",
     "text": [
      "keep up the good work, Akshay\n",
      "i m waiting to receive your submission of today, Akshay\n",
      "\n",
      "Thank you all for attending the python training sessions\n",
      "keep up the good work, Bhavana\n",
      "i m waiting to receive your submission of today, Bhavana\n",
      "\n",
      "Thank you all for attending the python training sessions\n",
      "keep up the good work, Chandu\n",
      "i m waiting to receive your submission of today, Chandu\n",
      "\n",
      "Thank you all for attending the python training sessions\n",
      "keep up the good work, Ehsan\n",
      "i m waiting to receive your submission of today, Ehsan\n",
      "\n",
      "Thank you all for attending the python training sessions\n"
     ]
    }
   ],
   "source": [
    "for a in students:\n",
    "    print(f\"keep up the good work, {a.title()}\")\n",
    "    print(f\"i m waiting to receive your submission of today, {a.title()}\\n\")\n",
    "    \n",
    "    print(\"Thank you all for attending the python training sessions\")"
   ]
  },
  {
   "cell_type": "code",
   "execution_count": null,
   "id": "73998906-56b7-4cb6-88dc-66a06571bce6",
   "metadata": {},
   "outputs": [],
   "source": []
  }
 ],
 "metadata": {
  "kernelspec": {
   "display_name": "anaconda-2024.02-py310",
   "language": "python",
   "name": "conda-env-anaconda-2024.02-py310-py"
  },
  "language_info": {
   "codemirror_mode": {
    "name": "ipython",
    "version": 3
   },
   "file_extension": ".py",
   "mimetype": "text/x-python",
   "name": "python",
   "nbconvert_exporter": "python",
   "pygments_lexer": "ipython3",
   "version": "3.10.14"
  }
 },
 "nbformat": 4,
 "nbformat_minor": 5
}
