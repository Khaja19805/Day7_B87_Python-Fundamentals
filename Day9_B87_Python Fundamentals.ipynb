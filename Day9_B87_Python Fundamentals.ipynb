{
 "cells": [
  {
   "cell_type": "code",
   "execution_count": 1,
   "id": "3a3232b8-f5d0-4613-bd58-a8045a8b88e0",
   "metadata": {},
   "outputs": [],
   "source": [
    "def greet():\n",
    "    \"\"\"This function will greet the user\"\"\" # this is doc string.\n",
    "    print(\"Hello\")"
   ]
  },
  {
   "cell_type": "code",
   "execution_count": 2,
   "id": "e50148f3-a82c-465c-9d0c-a22797a50709",
   "metadata": {},
   "outputs": [
    {
     "name": "stdout",
     "output_type": "stream",
     "text": [
      "Hello\n"
     ]
    }
   ],
   "source": [
    "greet()"
   ]
  },
  {
   "cell_type": "code",
   "execution_count": 3,
   "id": "a50f68a5-01f8-4873-a95c-25f4577d62fb",
   "metadata": {},
   "outputs": [
    {
     "name": "stdout",
     "output_type": "stream",
     "text": [
      "Hello\n"
     ]
    }
   ],
   "source": [
    "greet()"
   ]
  },
  {
   "cell_type": "code",
   "execution_count": 4,
   "id": "ff0c128f-02aa-44b1-b836-273576ea737e",
   "metadata": {},
   "outputs": [],
   "source": [
    "def greet_user():\n",
    "    \"\"\"display a simple greeting\"\"\"\n",
    "    print(\"Hello\")"
   ]
  },
  {
   "cell_type": "code",
   "execution_count": 5,
   "id": "5f471aed-5740-46a4-9eec-9ee5c3ca2431",
   "metadata": {},
   "outputs": [
    {
     "name": "stdout",
     "output_type": "stream",
     "text": [
      "Hello\n"
     ]
    }
   ],
   "source": [
    "greet_user()"
   ]
  },
  {
   "cell_type": "code",
   "execution_count": 6,
   "id": "c6f74a31-57e3-4208-a0ba-14ca6f927b86",
   "metadata": {},
   "outputs": [],
   "source": [
    "def greet_user(username): #parameters declaration, 'params'\n",
    "    \"\"\"Display a simple greeting\"\"\"\n",
    "    print(f\"Hello, {username.title()}\")"
   ]
  },
  {
   "cell_type": "code",
   "execution_count": 7,
   "id": "f0cd0e64-f0e9-43eb-a410-ca985e99938a",
   "metadata": {},
   "outputs": [
    {
     "name": "stdout",
     "output_type": "stream",
     "text": [
      "Hello, Anil\n"
     ]
    }
   ],
   "source": [
    "greet_user ('anil') #argument passing 'args'"
   ]
  },
  {
   "cell_type": "code",
   "execution_count": 8,
   "id": "8bc0fc32-6801-4ece-92ca-66cdcdac192a",
   "metadata": {},
   "outputs": [],
   "source": [
    "#reg: define a function with name describe_pet with takes two parameters, pet_name and animal_type "
   ]
  },
  {
   "cell_type": "code",
   "execution_count": 9,
   "id": "d792511c-f457-417d-8566-e24bbb708afb",
   "metadata": {},
   "outputs": [],
   "source": [
    "def describe_pet(animal_type, pet_name):    \n",
    "    \"\"\"describe the information about the pet\"\"\"    \n",
    "    print(f\"\\ni have a {animal_type}\")\n",
    "    print(f\"my {animal_type}'s name is {pet_name}\")"
   ]
  },
  {
   "cell_type": "code",
   "execution_count": 21,
   "id": "9a275020-d5f7-4f57-b9eb-91b89ae33f61",
   "metadata": {},
   "outputs": [
    {
     "ename": "NameError",
     "evalue": "name 'describe_pet' is not defined",
     "output_type": "error",
     "traceback": [
      "\u001b[0;31m---------------------------------------------------------------------------\u001b[0m",
      "\u001b[0;31mNameError\u001b[0m                                 Traceback (most recent call last)",
      "Cell \u001b[0;32mIn[21], line 1\u001b[0m\n\u001b[0;32m----> 1\u001b[0m \u001b[43mdescribe_pet\u001b[49m (\u001b[38;5;124m'\u001b[39m\u001b[38;5;124mdog\u001b[39m\u001b[38;5;124m'\u001b[39m,\u001b[38;5;124m'\u001b[39m\u001b[38;5;124mbruno\u001b[39m\u001b[38;5;124m'\u001b[39m)\n",
      "\u001b[0;31mNameError\u001b[0m: name 'describe_pet' is not defined"
     ]
    }
   ],
   "source": [
    "describe_pet ('dog','bruno')"
   ]
  },
  {
   "cell_type": "code",
   "execution_count": 15,
   "id": "05bf5a1d-7909-4195-b33d-d1be75b6b7f1",
   "metadata": {},
   "outputs": [
    {
     "ename": "NameError",
     "evalue": "name 'describe_pet' is not defined",
     "output_type": "error",
     "traceback": [
      "\u001b[0;31m---------------------------------------------------------------------------\u001b[0m",
      "\u001b[0;31mNameError\u001b[0m                                 Traceback (most recent call last)",
      "Cell \u001b[0;32mIn[15], line 1\u001b[0m\n\u001b[0;32m----> 1\u001b[0m \u001b[43mdescribe_pet\u001b[49m(\u001b[38;5;124m'\u001b[39m\u001b[38;5;124mcat\u001b[39m\u001b[38;5;124m'\u001b[39m,\u001b[38;5;124m'\u001b[39m\u001b[38;5;124mrex\u001b[39m\u001b[38;5;124m'\u001b[39m)\n",
      "\u001b[0;31mNameError\u001b[0m: name 'describe_pet' is not defined"
     ]
    }
   ],
   "source": [
    "describe_pet('cat','rex')"
   ]
  },
  {
   "cell_type": "code",
   "execution_count": null,
   "id": "3685b32e-787c-408f-a5ef-38d6d33368d4",
   "metadata": {},
   "outputs": [],
   "source": []
  }
 ],
 "metadata": {
  "kernelspec": {
   "display_name": "anaconda-2024.02-py310",
   "language": "python",
   "name": "conda-env-anaconda-2024.02-py310-py"
  },
  "language_info": {
   "codemirror_mode": {
    "name": "ipython",
    "version": 3
   },
   "file_extension": ".py",
   "mimetype": "text/x-python",
   "name": "python",
   "nbconvert_exporter": "python",
   "pygments_lexer": "ipython3",
   "version": "3.10.14"
  }
 },
 "nbformat": 4,
 "nbformat_minor": 5
}
